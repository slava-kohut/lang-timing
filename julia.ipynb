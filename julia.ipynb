{
 "cells": [
  {
   "cell_type": "code",
   "execution_count": 10,
   "metadata": {},
   "outputs": [
    {
     "name": "stderr",
     "output_type": "stream",
     "text": [
      "┌ Info: Precompiling CSV [336ed68f-0bac-5ca0-87d4-7b16caf5d00b]\n",
      "└ @ Base loading.jl:1186\n"
     ]
    }
   ],
   "source": [
    "using Statistics\n",
    "using DataFrames\n",
    "using CSV"
   ]
  },
  {
   "cell_type": "markdown",
   "metadata": {},
   "source": [
    "# Array sorting"
   ]
  },
  {
   "cell_type": "code",
   "execution_count": 2,
   "metadata": {},
   "outputs": [],
   "source": [
    "time_sort = Float64[]\n",
    "n_times = 5\n",
    "\n",
    "for n_elem in [1.e5, 1.e6, 1.e7, 1.e8, 2.e8]\n",
    "    trials = Float64[]\n",
    "    for i_times in 1:n_times\n",
    "        val, t, bytes, gctime, memallocs = @timed sort(rand(convert(Int64, n_elem)); alg = QuickSort)\n",
    "        append!(trials, t)\n",
    "    end\n",
    "    append!(time_sort, mean(trials))\n",
    "end    "
   ]
  },
  {
   "cell_type": "code",
   "execution_count": 3,
   "metadata": {},
   "outputs": [
    {
     "data": {
      "text/plain": [
       "5-element Array{Float64,1}:\n",
       "  0.0222832512       \n",
       "  0.10736215680000001\n",
       "  1.1255800248       \n",
       " 12.574220927999999  \n",
       " 25.9460101996       "
      ]
     },
     "execution_count": 3,
     "metadata": {},
     "output_type": "execute_result"
    }
   ],
   "source": [
    "time_sort"
   ]
  },
  {
   "cell_type": "markdown",
   "metadata": {},
   "source": [
    "# Matrix multiplicaton"
   ]
  },
  {
   "cell_type": "code",
   "execution_count": 4,
   "metadata": {},
   "outputs": [],
   "source": [
    "time_mm = Float64[]\n",
    "n_times = 5\n",
    "\n",
    "for n_elem in [500, 1000, 2000, 3000, 4000]\n",
    "    trials = Float64[]\n",
    "    for i_times in 1:n_times\n",
    "        val, t, bytes, gctime, memallocs = @timed rand(n_elem, n_elem)*rand(n_elem, n_elem)\n",
    "        append!(trials, t)\n",
    "    end\n",
    "    append!(time_mm, mean(trials))\n",
    "end    "
   ]
  },
  {
   "cell_type": "code",
   "execution_count": 5,
   "metadata": {},
   "outputs": [
    {
     "data": {
      "text/plain": [
       "5-element Array{Float64,1}:\n",
       " 0.007873730800000001\n",
       " 0.05176348439999999 \n",
       " 0.3530814454        \n",
       " 1.0159688134        \n",
       " 2.3530193164        "
      ]
     },
     "execution_count": 5,
     "metadata": {},
     "output_type": "execute_result"
    }
   ],
   "source": [
    "time_mm"
   ]
  },
  {
   "cell_type": "code",
   "execution_count": 9,
   "metadata": {},
   "outputs": [
    {
     "data": {
      "text/html": [
       "<table class=\"data-frame\"><thead><tr><th></th><th>sort</th><th>mm</th></tr></thead><tbody><tr><th>1</th><td>0.0222833</td><td>0.00787373</td></tr><tr><th>2</th><td>0.107362</td><td>0.0517635</td></tr><tr><th>3</th><td>1.12558</td><td>0.353081</td></tr><tr><th>4</th><td>12.5742</td><td>1.01597</td></tr><tr><th>5</th><td>25.946</td><td>2.35302</td></tr></tbody></table>"
      ],
      "text/plain": [
       "5×2 DataFrame\n",
       "│ Row │ sort      │ mm         │\n",
       "├─────┼───────────┼────────────┤\n",
       "│ 1   │ 0.0222833 │ 0.00787373 │\n",
       "│ 2   │ 0.107362  │ 0.0517635  │\n",
       "│ 3   │ 1.12558   │ 0.353081   │\n",
       "│ 4   │ 12.5742   │ 1.01597    │\n",
       "│ 5   │ 25.946    │ 2.35302    │"
      ]
     },
     "execution_count": 9,
     "metadata": {},
     "output_type": "execute_result"
    }
   ],
   "source": [
    "df = DataFrame(sort = time_sort, mm = time_mm)"
   ]
  },
  {
   "cell_type": "code",
   "execution_count": 13,
   "metadata": {},
   "outputs": [
    {
     "data": {
      "text/plain": [
       "CSV.Sink{Nothing,DataType}(    CSV.Options:\n",
       "        delim: ','\n",
       "        quotechar: '\"'\n",
       "        escapechar: '\\\\'\n",
       "        missingstring: \"\"\n",
       "        dateformat: \n",
       "        decimal: '.'\n",
       "        truestring: 'true'\n",
       "        falsestring: 'false'\n",
       "        internstrings: true, IOBuffer(data=UInt8[...], readable=true, writable=true, seekable=true, append=false, size=0, maxsize=Inf, ptr=1, mark=-1), \"./julia.csv\", 8, true, [\"sort\", \"mm\"], 2, false, Val{false})"
      ]
     },
     "execution_count": 13,
     "metadata": {},
     "output_type": "execute_result"
    }
   ],
   "source": [
    "CSV.write(\"./julia.csv\", df)"
   ]
  }
 ],
 "metadata": {
  "kernelspec": {
   "display_name": "Julia 1.0.0",
   "language": "julia",
   "name": "julia-1.0"
  },
  "language_info": {
   "file_extension": ".jl",
   "mimetype": "application/julia",
   "name": "julia",
   "version": "1.0.0"
  }
 },
 "nbformat": 4,
 "nbformat_minor": 2
}

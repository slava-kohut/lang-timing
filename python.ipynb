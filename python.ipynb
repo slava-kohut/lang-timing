{
 "cells": [
  {
   "cell_type": "code",
   "execution_count": 9,
   "metadata": {},
   "outputs": [],
   "source": [
    "import numpy as np\n",
    "import sys\n",
    "import pandas as pd"
   ]
  },
  {
   "cell_type": "markdown",
   "metadata": {},
   "source": [
    "# Sorting\n",
    "\n",
    "method: quicksort"
   ]
  },
  {
   "cell_type": "code",
   "execution_count": 5,
   "metadata": {},
   "outputs": [
    {
     "name": "stdout",
     "output_type": "stream",
     "text": [
      "15 ms ± 0 ns per loop (mean ± std. dev. of 1 run, 5 loops each)\n",
      "154 ms ± 0 ns per loop (mean ± std. dev. of 1 run, 5 loops each)\n",
      "1.75 s ± 0 ns per loop (mean ± std. dev. of 1 run, 5 loops each)\n",
      "18.6 s ± 0 ns per loop (mean ± std. dev. of 1 run, 5 loops each)\n",
      "39.6 s ± 0 ns per loop (mean ± std. dev. of 1 run, 5 loops each)\n"
     ]
    }
   ],
   "source": [
    "time_sort = list()\n",
    "for n_elem in [1.e5, 1.e6, 1.e7, 1.e8, 2.e8]:\n",
    "    timing = %timeit -n 5 -r 1 -o np.sort(np.random.normal(size = int(n_elem)), axis = None, kind = 'quicksort')\n",
    "    time_sort.append(timing.average)"
   ]
  },
  {
   "cell_type": "code",
   "execution_count": 6,
   "metadata": {},
   "outputs": [
    {
     "data": {
      "text/plain": [
       "[0.01503210780210793,\n",
       " 0.15410219701007008,\n",
       " 1.7476991253904999,\n",
       " 18.619036433985457,\n",
       " 39.57193183922209]"
      ]
     },
     "execution_count": 6,
     "metadata": {},
     "output_type": "execute_result"
    }
   ],
   "source": [
    "time_sort"
   ]
  },
  {
   "cell_type": "markdown",
   "metadata": {},
   "source": [
    "# Matrix multiplication"
   ]
  },
  {
   "cell_type": "code",
   "execution_count": 12,
   "metadata": {},
   "outputs": [
    {
     "name": "stdout",
     "output_type": "stream",
     "text": [
      "109 ms ± 0 ns per loop (mean ± std. dev. of 1 run, 5 loops each)\n",
      "933 ms ± 0 ns per loop (mean ± std. dev. of 1 run, 5 loops each)\n",
      "7.1 s ± 0 ns per loop (mean ± std. dev. of 1 run, 5 loops each)\n",
      "23.2 s ± 0 ns per loop (mean ± std. dev. of 1 run, 5 loops each)\n",
      "54.1 s ± 0 ns per loop (mean ± std. dev. of 1 run, 5 loops each)\n"
     ]
    }
   ],
   "source": [
    "time_mm = list()\n",
    "for n_elem in [500, 1000, 2000, 3000, 4000]:\n",
    "    timing = %timeit -n 5 -r 1 -o np.matmul(np.random.normal(size = int(n_elem**2)).reshape(n_elem, n_elem), np.random.normal(size = int(n_elem**2)).reshape(n_elem, n_elem))\n",
    "    time_mm.append(timing.average)"
   ]
  },
  {
   "cell_type": "code",
   "execution_count": 13,
   "metadata": {},
   "outputs": [
    {
     "data": {
      "text/plain": [
       "[0.10902678156271577,\n",
       " 0.9334718627855182,\n",
       " 7.104519516974688,\n",
       " 23.192841191822662,\n",
       " 54.09005548260175]"
      ]
     },
     "execution_count": 13,
     "metadata": {},
     "output_type": "execute_result"
    }
   ],
   "source": [
    "time_mm"
   ]
  },
  {
   "cell_type": "code",
   "execution_count": 16,
   "metadata": {},
   "outputs": [],
   "source": [
    "pd.DataFrame({'sort':time_sort, 'mm':time_mm}).to_csv('./python.csv')"
   ]
  }
 ],
 "metadata": {
  "kernelspec": {
   "display_name": "Python 3",
   "language": "python",
   "name": "python3"
  },
  "language_info": {
   "codemirror_mode": {
    "name": "ipython",
    "version": 3
   },
   "file_extension": ".py",
   "mimetype": "text/x-python",
   "name": "python",
   "nbconvert_exporter": "python",
   "pygments_lexer": "ipython3",
   "version": "3.5.2"
  }
 },
 "nbformat": 4,
 "nbformat_minor": 2
}
